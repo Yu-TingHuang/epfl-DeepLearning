{
 "cells": [
  {
   "cell_type": "code",
   "execution_count": 1,
   "metadata": {},
   "outputs": [],
   "source": [
    "import torch\n",
    "from torch import Tensor\n",
    "import math\n",
    "import matplotlib.pyplot as plt\n",
    "\n",
    "import module as model\n",
    "import loss as loss\n",
    "import optimizer as optim\n",
    "from util import one_hot_embedding, generate_disk_dataset, plot_with_labels"
   ]
  },
  {
   "cell_type": "code",
   "execution_count": 24,
   "metadata": {},
   "outputs": [],
   "source": [
    "train_input, train_label = generate_disk_dataset(1000)"
   ]
  },
  {
   "cell_type": "code",
   "execution_count": 25,
   "metadata": {},
   "outputs": [
    {
     "name": "stdout",
     "output_type": "stream",
     "text": [
      "error:  tensor(nan)\n",
      "accuracy:  tensor(536)\n"
     ]
    }
   ],
   "source": [
    "loss_fnc = loss.MSE()\n",
    "optimizer = optim.GD(gamma = 0.001)\n",
    "Model = model.MLP(model.Linear(2, 100), model.ReLU(), model.Linear(100, 100), model.ReLU(), model.Linear(100, 50), model.ReLU(), model.Linear(50, 2))\n",
    "optimizer.train(train_input, train_label, loss_fnc, Model, nb_epoch = 20)"
   ]
  },
  {
   "cell_type": "code",
   "execution_count": 26,
   "metadata": {},
   "outputs": [
    {
     "name": "stdout",
     "output_type": "stream",
     "text": [
      "error:  tensor(0.3647)\n",
      "accuracy:  tensor(883)\n"
     ]
    }
   ],
   "source": [
    "optimizer = optim.GD(gamma = 0.01)\n",
    "Model = model.MLP(model.Linear(2, 100), model.Tanh(), model.Linear(100, 100), model.Tanh(), model.Linear(100, 50), model.Tanh(), model.Linear(50, 2))\n",
    "optimizer.train(train_input, train_label, loss_fnc, Model, nb_epoch = 30)"
   ]
  },
  {
   "cell_type": "code",
   "execution_count": 27,
   "metadata": {},
   "outputs": [
    {
     "name": "stdout",
     "output_type": "stream",
     "text": [
      "error:  tensor(nan)\n",
      "accuracy:  tensor(605)\n"
     ]
    }
   ],
   "source": [
    "loss_fnc = loss.CrossEntropy()\n",
    "optimizer = optim.GD(gamma = 0.001)\n",
    "Model = model.MLP(model.Linear(2, 100), model.ReLU(), model.Linear(100, 100), model.ReLU(), model.Linear(100, 50), model.ReLU(), model.Linear(50, 2))\n",
    "optimizer.train(train_input, train_label, loss_fnc, Model, nb_epoch = 20)"
   ]
  },
  {
   "cell_type": "code",
   "execution_count": 28,
   "metadata": {},
   "outputs": [
    {
     "name": "stdout",
     "output_type": "stream",
     "text": [
      "error:  tensor(0.2154)\n",
      "accuracy:  tensor(918)\n"
     ]
    }
   ],
   "source": [
    "optimizer = optim.GD(gamma = 0.01)\n",
    "Model = model.MLP(model.Linear(2, 100), model.Tanh(), model.Linear(100, 100), model.Tanh(), model.Linear(100, 50), model.Tanh(), model.Linear(50, 2))\n",
    "optimizer.train(train_input, train_label, loss_fnc, Model, nb_epoch = 30)"
   ]
  },
  {
   "cell_type": "code",
   "execution_count": null,
   "metadata": {},
   "outputs": [],
   "source": []
  }
 ],
 "metadata": {
  "kernelspec": {
   "display_name": "Python 3",
   "language": "python",
   "name": "python3"
  },
  "language_info": {
   "codemirror_mode": {
    "name": "ipython",
    "version": 3
   },
   "file_extension": ".py",
   "mimetype": "text/x-python",
   "name": "python",
   "nbconvert_exporter": "python",
   "pygments_lexer": "ipython3",
   "version": "3.6.6"
  }
 },
 "nbformat": 4,
 "nbformat_minor": 2
}
