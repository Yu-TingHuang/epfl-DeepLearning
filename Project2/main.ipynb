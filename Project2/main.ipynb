{
 "cells": [
  {
   "cell_type": "code",
   "execution_count": 1,
   "metadata": {},
   "outputs": [],
   "source": [
    "import torch\n",
    "from torch import Tensor\n",
    "import math\n",
    "import matplotlib.pyplot as plt\n",
    "\n",
    "import module as model\n",
    "import loss as loss\n",
    "import optimizer as optim\n",
    "from util import one_hot_embedding, generate_disk_dataset, plot_with_labels"
   ]
  },
  {
   "cell_type": "code",
   "execution_count": 86,
   "metadata": {},
   "outputs": [],
   "source": [
    "train_input, train_label = generate_disk_dataset(1000)"
   ]
  },
  {
   "cell_type": "code",
   "execution_count": 87,
   "metadata": {},
   "outputs": [
    {
     "name": "stdout",
     "output_type": "stream",
     "text": [
      "error:  tensor(nan)\n",
      "accuracy:  tensor(483)\n"
     ]
    }
   ],
   "source": [
    "loss_fnc = loss.MSE()\n",
    "optimizer = optim.GD(gamma = 0.001)\n",
    "Model = model.MLP(model.Linear(2, 25), model.ReLU(), model.Linear(25, 25), model.ReLU(), model.Linear(25, 25), model.ReLU(), model.Linear(25, 25), model.ReLU(), model.Linear(25, 2))\n",
    "optimizer.train(train_input, train_label, loss_fnc, Model, nb_epoch = 100)"
   ]
  },
  {
   "cell_type": "code",
   "execution_count": 88,
   "metadata": {},
   "outputs": [
    {
     "name": "stdout",
     "output_type": "stream",
     "text": [
      "error:  tensor(0.3340)\n",
      "accuracy:  tensor(800)\n"
     ]
    }
   ],
   "source": [
    "loss_fnc = loss.MSE()\n",
    "optimizer = optim.GD(gamma = 0.01)\n",
    "Model = model.MLP(model.Linear(2, 25), model.Tanh(), model.Linear(25, 25), model.Tanh(), model.Linear(25, 25), model.Tanh(), model.Linear(25, 25), model.Tanh(), model.Linear(25, 2))\n",
    "optimizer.train(train_input, train_label, loss_fnc, Model, nb_epoch = 100)"
   ]
  },
  {
   "cell_type": "code",
   "execution_count": 89,
   "metadata": {},
   "outputs": [
    {
     "name": "stdout",
     "output_type": "stream",
     "text": [
      "error:  tensor(1.3292)\n",
      "accuracy:  tensor(709)\n"
     ]
    }
   ],
   "source": [
    "loss_fnc = loss.CrossEntropy()\n",
    "optimizer = optim.GD(gamma = 0.001)\n",
    "Model = model.MLP(model.Linear(2, 25), model.ReLU(), model.Linear(25, 25), model.ReLU(), model.Linear(25, 25), model.ReLU(), model.Linear(25, 25), model.ReLU(), model.Linear(25, 2))\n",
    "optimizer.train(train_input, train_label, loss_fnc, Model, nb_epoch = 100)"
   ]
  },
  {
   "cell_type": "code",
   "execution_count": 90,
   "metadata": {},
   "outputs": [
    {
     "name": "stdout",
     "output_type": "stream",
     "text": [
      "error:  tensor(0.2097)\n",
      "accuracy:  tensor(933)\n"
     ]
    }
   ],
   "source": [
    "loss_fnc = loss.CrossEntropy()\n",
    "optimizer = optim.GD(gamma = 0.01)\n",
    "Model = model.MLP(model.Linear(2, 25), model.Tanh(), model.Linear(25, 25), model.Tanh(), model.Linear(25, 25), model.Tanh(), model.Linear(25, 25), model.Tanh(), model.Linear(25, 2))\n",
    "optimizer.train(train_input, train_label, loss_fnc, Model, nb_epoch = 100)"
   ]
  },
  {
   "cell_type": "code",
   "execution_count": null,
   "metadata": {},
   "outputs": [],
   "source": []
  },
  {
   "cell_type": "code",
   "execution_count": null,
   "metadata": {},
   "outputs": [],
   "source": []
  }
 ],
 "metadata": {
  "kernelspec": {
   "display_name": "Python 3",
   "language": "python",
   "name": "python3"
  },
  "language_info": {
   "codemirror_mode": {
    "name": "ipython",
    "version": 3
   },
   "file_extension": ".py",
   "mimetype": "text/x-python",
   "name": "python",
   "nbconvert_exporter": "python",
   "pygments_lexer": "ipython3",
   "version": "3.6.6"
  }
 },
 "nbformat": 4,
 "nbformat_minor": 2
}
